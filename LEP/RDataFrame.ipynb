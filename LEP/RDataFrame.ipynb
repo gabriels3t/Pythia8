{
 "cells": [
  {
   "cell_type": "code",
   "execution_count": 14,
   "metadata": {},
   "outputs": [],
   "source": [
    "import ROOT\n",
    "import  pandas  as pd\n",
    "import numpy as np "
   ]
  },
  {
   "cell_type": "code",
   "execution_count": 11,
   "metadata": {},
   "outputs": [],
   "source": [
    "rdf_id = ROOT.RDataFrame(\"data/id.dat\", \"id\")\n",
    "rdf_event = ROOT.RDataFrame(\"data/event.dat\",'evento')\n",
    "rdf_pT = ROOT.RDataFrame(\"data/pT.dat\",'pT')\n",
    "rdf_px = ROOT.RDataFrame(\"data/px.dat\", \"px\")\n",
    "rdf_py = ROOT.RDataFrame(\"data/py.dat\", \"py\")\n",
    "rdf_pz = ROOT.RDataFrame(\"data/pz.dat\", \"pz\")\n",
    "rdf_eta = ROOT.RDataFrame(\"data/eta.dat\", \"eta\")\n",
    "rdf_phi = ROOT.RDataFrame(\"data/phi.dat\", \"phi\")"
   ]
  }
 ],
 "metadata": {
  "kernelspec": {
   "display_name": "cern",
   "language": "python",
   "name": "python3"
  },
  "language_info": {
   "codemirror_mode": {
    "name": "ipython",
    "version": 3
   },
   "file_extension": ".py",
   "mimetype": "text/x-python",
   "name": "python",
   "nbconvert_exporter": "python",
   "pygments_lexer": "ipython3",
   "version": "3.10.6"
  },
  "orig_nbformat": 4
 },
 "nbformat": 4,
 "nbformat_minor": 2
}
